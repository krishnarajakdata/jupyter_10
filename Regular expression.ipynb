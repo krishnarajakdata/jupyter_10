{
 "cells": [
  {
   "cell_type": "code",
   "execution_count": 1,
   "id": "531d02d1",
   "metadata": {},
   "outputs": [
    {
     "name": "stdout",
     "output_type": "stream",
     "text": [
      "Python:Exercises::PHP:exercises:\n"
     ]
    }
   ],
   "source": [
    "import re\n",
    "text = 'Python Exercises, PHP exercises.'\n",
    "print(re.sub(\"[ ,.]\",\":\", text))"
   ]
  },
  {
   "cell_type": "code",
   "execution_count": 10,
   "id": "7ab81c9d",
   "metadata": {},
   "outputs": [
    {
     "name": "stdout",
     "output_type": "stream",
     "text": [
      "         SUMMARY\n",
      "0    hello world\n",
      "1     XXXXX test\n",
      "2  four five six\n"
     ]
    }
   ],
   "source": [
    "import pandas as pd\n",
    "import re\n",
    "\n",
    "data = {'SUMMARY':['hello, world!', 'XXXXX test', '123four, five:; six...']}\n",
    "df = pd.DataFrame(data)\n",
    "df['SUMMARY'] = df['SUMMARY'].str.replace('[^a-zA-Z\\s]', '', regex=True)\n",
    "print(df)"
   ]
  },
  {
   "cell_type": "code",
   "execution_count": 21,
   "id": "f04df7a0",
   "metadata": {},
   "outputs": [],
   "source": [
    "import re\n",
    "def find_long_words(string):\n",
    "    pattern = re.compile(r'\\b\\w{4}\\b')\n",
    "    long_words = pattern.findall(string)\n",
    "    return long_words"
   ]
  },
  {
   "cell_type": "code",
   "execution_count": 5,
   "id": "b8083ad5",
   "metadata": {},
   "outputs": [],
   "source": [
    "import re\n",
    "\n",
    "def find_words(string):\n",
    "    pattern = re.compile(r'\\b\\w{3,5}\\b')\n",
    "    matches = pattern.findall(string)\n",
    "    return (matches)"
   ]
  },
  {
   "cell_type": "code",
   "execution_count": 8,
   "id": "fd7e11d0",
   "metadata": {},
   "outputs": [],
   "source": [
    "import re\n",
    "\n",
    "def remove_parentheses(strings):\n",
    "    pattern = re.compile(r\"\\(|\\)\")\n",
    "    modified_strings = []\n",
    "    for string in strings:\n",
    "        modified_string = re.sub(pattern, \"\", string)\n",
    "        modified_strings.append(modified_string)\n",
    "        return modified_strings\n",
    "    sample_text = [\"example (.com)\", \"hr@fliprobo (.com)\", \"github (.com)\", \"hello (data science world)\", \"data (scientist)\"]\n",
    "    result = remove_parenthesis(sample_text)\n",
    "    print(result)"
   ]
  },
  {
   "cell_type": "code",
   "execution_count": null,
   "id": "06d7bfe3",
   "metadata": {},
   "outputs": [],
   "source": [
    "\n"
   ]
  },
  {
   "cell_type": "code",
   "execution_count": 1,
   "id": "9d787171",
   "metadata": {},
   "outputs": [
    {
     "name": "stdout",
     "output_type": "stream",
     "text": [
      "example \n",
      "hr@fliprobo \n",
      "github \n",
      "Hello \n",
      "Data \n"
     ]
    }
   ],
   "source": [
    "import re\n",
    "\n",
    "def remove_parenthesis(strings):\n",
    "    pattern = re.compile(r'\\((.*?)\\)')  # Compile the regex pattern to match text within parentheses\n",
    "    \n",
    "    result = []\n",
    "    for string in strings:\n",
    "        modified_string = pattern.sub('', string)  # Remove text within parentheses\n",
    "        result.append(modified_string)\n",
    "    \n",
    "    return result\n",
    "\n",
    "# Sample Text\n",
    "sample_text = [\"example (.com)\", \"hr@fliprobo (.com)\", \"github (.com)\", \"Hello (Data Science World)\", \"Data (Scientist)\"]\n",
    "\n",
    "# Get the expected output\n",
    "expected_output = remove_parenthesis(sample_text)\n",
    "for text in expected_output:\n",
    "    print(text)\n"
   ]
  },
  {
   "cell_type": "code",
   "execution_count": 4,
   "id": "3d405cc5",
   "metadata": {},
   "outputs": [
    {
     "name": "stdout",
     "output_type": "stream",
     "text": [
      "['Importance', 'Of', 'Regular', 'Expressions', 'In', 'Python']\n"
     ]
    }
   ],
   "source": [
    "import re\n",
    "\n",
    "def split_uppercase(text):\n",
    "    words = re.findall('[A-Z][^A-Z]*', text)\n",
    "    return words\n",
    "\n",
    "sample_text = \"ImportanceOfRegularExpressionsInPython\"\n",
    "output = split_uppercase(sample_text)\n",
    "print(output)\n"
   ]
  },
  {
   "cell_type": "code",
   "execution_count": 5,
   "id": "050aed6a",
   "metadata": {},
   "outputs": [
    {
     "name": "stdout",
     "output_type": "stream",
     "text": [
      "RegularExpression 1IsAn 2ImportantTopic 3InPython\n"
     ]
    }
   ],
   "source": [
    "import re\n",
    "\n",
    "def insert_spaces(text):\n",
    "    modified_text = re.sub(r'(?<=\\D)(?=\\d)', ' ', text)\n",
    "    return modified_text\n",
    "\n",
    "sample_text = \"RegularExpression1IsAn2ImportantTopic3InPython\"\n",
    "output = insert_spaces(sample_text)\n",
    "print(output)\n"
   ]
  },
  {
   "cell_type": "code",
   "execution_count": 6,
   "id": "01f7c5ac",
   "metadata": {},
   "outputs": [
    {
     "name": "stdout",
     "output_type": "stream",
     "text": [
      "Regular Expression 1Is An 2Important Topic 3In Python\n"
     ]
    }
   ],
   "source": [
    "import re\n",
    "\n",
    "def insert_spaces(text):\n",
    "    modified_text = re.sub(r'(?<=[a-z])(?=[A-Z0-9])', ' ', text)\n",
    "    return modified_text\n",
    "\n",
    "sample_text = \"RegularExpression1IsAn2ImportantTopic3InPython\"\n",
    "output = insert_spaces(sample_text)\n",
    "print(output)\n"
   ]
  },
  {
   "cell_type": "code",
   "execution_count": 7,
   "id": "2d754462",
   "metadata": {},
   "outputs": [
    {
     "name": "stdout",
     "output_type": "stream",
     "text": [
      "       Country          Region  Happiness Rank  Happiness Score  \\\n",
      "0  Switzerland  Western Europe               1            7.587   \n",
      "1      Iceland  Western Europe               2            7.561   \n",
      "2      Denmark  Western Europe               3            7.527   \n",
      "3       Norway  Western Europe               4            7.522   \n",
      "4       Canada   North America               5            7.427   \n",
      "\n",
      "   Standard Error  Economy (GDP per Capita)   Family  \\\n",
      "0         0.03411                   1.39651  1.34951   \n",
      "1         0.04884                   1.30232  1.40223   \n",
      "2         0.03328                   1.32548  1.36058   \n",
      "3         0.03880                   1.45900  1.33095   \n",
      "4         0.03553                   1.32629  1.32261   \n",
      "\n",
      "   Health (Life Expectancy)  Freedom  Trust (Government Corruption)  \\\n",
      "0                   0.94143  0.66557                        0.41978   \n",
      "1                   0.94784  0.62877                        0.14145   \n",
      "2                   0.87464  0.64938                        0.48357   \n",
      "3                   0.88521  0.66973                        0.36503   \n",
      "4                   0.90563  0.63297                        0.32957   \n",
      "\n",
      "   Generosity  Dystopia Residual first_five_letters  \n",
      "0     0.29678            2.51738             Switze  \n",
      "1     0.43630            2.70201             Icelan  \n",
      "2     0.34139            2.49204             Denmar  \n",
      "3     0.34699            2.46531             Norway  \n",
      "4     0.45811            2.45176             Canada  \n"
     ]
    }
   ],
   "source": [
    "import pandas as pd\n",
    "\n",
    "# Read the CSV data from the GitHub link into a DataFrame\n",
    "url = \"https://raw.githubusercontent.com/dsrscientist/DSData/master/happiness_score_dataset.csv\"\n",
    "data = pd.read_csv(url)\n",
    "\n",
    "# Extract the first 6 letters of each country name and create the 'first_five_letters' column\n",
    "data['first_five_letters'] = data['Country'].str[:6]\n",
    "\n",
    "# Display the DataFrame with the new column\n",
    "print(data.head())\n"
   ]
  },
  {
   "cell_type": "code",
   "execution_count": 8,
   "id": "acb5f276",
   "metadata": {},
   "outputs": [
    {
     "name": "stdout",
     "output_type": "stream",
     "text": [
      "'Hello_World123' matches the pattern.\n",
      "'ThisHasSpaces!' does not match the pattern.\n",
      "'Only_letters' matches the pattern.\n",
      "'123_numbers' matches the pattern.\n",
      "'Special@Chars' does not match the pattern.\n"
     ]
    }
   ],
   "source": [
    "import re\n",
    "\n",
    "def match_pattern(text):\n",
    "    pattern = re.compile(r'^[a-zA-Z0-9_]+$')\n",
    "    result = re.match(pattern, text)\n",
    "    return bool(result)\n",
    "\n",
    "# Test cases\n",
    "strings_to_test = [\n",
    "    \"Hello_World123\",\n",
    "    \"ThisHasSpaces!\",\n",
    "    \"Only_letters\",\n",
    "    \"123_numbers\",\n",
    "    \"Special@Chars\"\n",
    "]\n",
    "\n",
    "for string in strings_to_test:\n",
    "    if match_pattern(string):\n",
    "        print(f\"'{string}' matches the pattern.\")\n",
    "    else:\n",
    "        print(f\"'{string}' does not match the pattern.\")\n"
   ]
  },
  {
   "cell_type": "code",
   "execution_count": 9,
   "id": "4d8665b3",
   "metadata": {},
   "outputs": [
    {
     "name": "stdout",
     "output_type": "stream",
     "text": [
      "'123ABC' starts with '123'.\n",
      "'456Test' does not start with '123'.\n",
      "'789XYZ' does not start with '123'.\n",
      "'ABC123' does not start with '123'.\n",
      "'999StartsWithNine' does not start with '123'.\n"
     ]
    }
   ],
   "source": [
    "import re\n",
    "\n",
    "def starts_with_number(string, number):\n",
    "    pattern = re.compile(f'^{number}')\n",
    "    result = re.match(pattern, string)\n",
    "    return bool(result)\n",
    "\n",
    "# Test cases\n",
    "strings_to_test = [\n",
    "    \"123ABC\",\n",
    "    \"456Test\",\n",
    "    \"789XYZ\",\n",
    "    \"ABC123\",\n",
    "    \"999StartsWithNine\"\n",
    "]\n",
    "\n",
    "specific_number = \"123\"  # Specify the number to check for at the beginning of the string\n",
    "\n",
    "for string in strings_to_test:\n",
    "    if starts_with_number(string, specific_number):\n",
    "        print(f\"'{string}' starts with '{specific_number}'.\")\n",
    "    else:\n",
    "        print(f\"'{string}' does not start with '{specific_number}'.\")\n"
   ]
  },
  {
   "cell_type": "code",
   "execution_count": 10,
   "id": "d8c94739",
   "metadata": {},
   "outputs": [
    {
     "name": "stdout",
     "output_type": "stream",
     "text": [
      "Original IP address: 192.168.001.001\n",
      "Modified IP address: 192.168.1.1\n"
     ]
    }
   ],
   "source": [
    "def remove_leading_zeros(ip_address):\n",
    "    # Split the IP address into its parts\n",
    "    parts = ip_address.split('.')\n",
    "    \n",
    "    # Remove leading zeros from each part\n",
    "    modified_parts = [str(int(part)) for part in parts]\n",
    "    \n",
    "    # Join the modified parts back together\n",
    "    modified_ip = '.'.join(modified_parts)\n",
    "    \n",
    "    return modified_ip\n",
    "\n",
    "# Test case\n",
    "ip_address = \"192.168.001.001\"\n",
    "modified_ip = remove_leading_zeros(ip_address)\n",
    "print(f\"Original IP address: {ip_address}\")\n",
    "print(f\"Modified IP address: {modified_ip}\")\n"
   ]
  },
  {
   "cell_type": "code",
   "execution_count": 11,
   "id": "abf1f0d0",
   "metadata": {},
   "outputs": [
    {
     "ename": "FileNotFoundError",
     "evalue": "[Errno 2] No such file or directory: 'your_file_path.txt'",
     "output_type": "error",
     "traceback": [
      "\u001b[1;31m---------------------------------------------------------------------------\u001b[0m",
      "\u001b[1;31mFileNotFoundError\u001b[0m                         Traceback (most recent call last)",
      "Cell \u001b[1;32mIn[11], line 19\u001b[0m\n\u001b[0;32m     16\u001b[0m file_path \u001b[38;5;241m=\u001b[39m \u001b[38;5;124m'\u001b[39m\u001b[38;5;124myour_file_path.txt\u001b[39m\u001b[38;5;124m'\u001b[39m  \u001b[38;5;66;03m# Replace 'your_file_path.txt' with your file path\u001b[39;00m\n\u001b[0;32m     18\u001b[0m \u001b[38;5;66;03m# Extract date from the text file\u001b[39;00m\n\u001b[1;32m---> 19\u001b[0m date_extracted \u001b[38;5;241m=\u001b[39m \u001b[43mextract_date_from_text\u001b[49m\u001b[43m(\u001b[49m\u001b[43mfile_path\u001b[49m\u001b[43m)\u001b[49m\n\u001b[0;32m     20\u001b[0m \u001b[38;5;28mprint\u001b[39m(\u001b[38;5;124m\"\u001b[39m\u001b[38;5;124mExtracted Date:\u001b[39m\u001b[38;5;124m\"\u001b[39m, date_extracted)\n",
      "Cell \u001b[1;32mIn[11], line 4\u001b[0m, in \u001b[0;36mextract_date_from_text\u001b[1;34m(file_path)\u001b[0m\n\u001b[0;32m      3\u001b[0m \u001b[38;5;28;01mdef\u001b[39;00m \u001b[38;5;21mextract_date_from_text\u001b[39m(file_path):\n\u001b[1;32m----> 4\u001b[0m     \u001b[38;5;28;01mwith\u001b[39;00m \u001b[38;5;28;43mopen\u001b[39;49m\u001b[43m(\u001b[49m\u001b[43mfile_path\u001b[49m\u001b[43m,\u001b[49m\u001b[43m \u001b[49m\u001b[38;5;124;43m'\u001b[39;49m\u001b[38;5;124;43mr\u001b[39;49m\u001b[38;5;124;43m'\u001b[39;49m\u001b[43m)\u001b[49m \u001b[38;5;28;01mas\u001b[39;00m file:\n\u001b[0;32m      5\u001b[0m         text \u001b[38;5;241m=\u001b[39m file\u001b[38;5;241m.\u001b[39mread()\n\u001b[0;32m      7\u001b[0m     pattern \u001b[38;5;241m=\u001b[39m re\u001b[38;5;241m.\u001b[39mcompile(\u001b[38;5;124mr\u001b[39m\u001b[38;5;124m'\u001b[39m\u001b[38;5;124m\\\u001b[39m\u001b[38;5;124mb(?:January|February|March|April|May|June|July|August|September|October|November|December)\u001b[39m\u001b[38;5;124m\\\u001b[39m\u001b[38;5;124ms+\u001b[39m\u001b[38;5;124m\\\u001b[39m\u001b[38;5;124md\u001b[39m\u001b[38;5;124m{\u001b[39m\u001b[38;5;124m1,2}(?:st|nd|rd|th)?\u001b[39m\u001b[38;5;124m\\\u001b[39m\u001b[38;5;124ms+\u001b[39m\u001b[38;5;124m\\\u001b[39m\u001b[38;5;124md\u001b[39m\u001b[38;5;132;01m{4}\u001b[39;00m\u001b[38;5;124m\\\u001b[39m\u001b[38;5;124mb\u001b[39m\u001b[38;5;124m'\u001b[39m)\n",
      "File \u001b[1;32m~\\anaconda3\\lib\\site-packages\\IPython\\core\\interactiveshell.py:282\u001b[0m, in \u001b[0;36m_modified_open\u001b[1;34m(file, *args, **kwargs)\u001b[0m\n\u001b[0;32m    275\u001b[0m \u001b[38;5;28;01mif\u001b[39;00m file \u001b[38;5;129;01min\u001b[39;00m {\u001b[38;5;241m0\u001b[39m, \u001b[38;5;241m1\u001b[39m, \u001b[38;5;241m2\u001b[39m}:\n\u001b[0;32m    276\u001b[0m     \u001b[38;5;28;01mraise\u001b[39;00m \u001b[38;5;167;01mValueError\u001b[39;00m(\n\u001b[0;32m    277\u001b[0m         \u001b[38;5;124mf\u001b[39m\u001b[38;5;124m\"\u001b[39m\u001b[38;5;124mIPython won\u001b[39m\u001b[38;5;124m'\u001b[39m\u001b[38;5;124mt let you open fd=\u001b[39m\u001b[38;5;132;01m{\u001b[39;00mfile\u001b[38;5;132;01m}\u001b[39;00m\u001b[38;5;124m by default \u001b[39m\u001b[38;5;124m\"\u001b[39m\n\u001b[0;32m    278\u001b[0m         \u001b[38;5;124m\"\u001b[39m\u001b[38;5;124mas it is likely to crash IPython. If you know what you are doing, \u001b[39m\u001b[38;5;124m\"\u001b[39m\n\u001b[0;32m    279\u001b[0m         \u001b[38;5;124m\"\u001b[39m\u001b[38;5;124myou can use builtins\u001b[39m\u001b[38;5;124m'\u001b[39m\u001b[38;5;124m open.\u001b[39m\u001b[38;5;124m\"\u001b[39m\n\u001b[0;32m    280\u001b[0m     )\n\u001b[1;32m--> 282\u001b[0m \u001b[38;5;28;01mreturn\u001b[39;00m io_open(file, \u001b[38;5;241m*\u001b[39margs, \u001b[38;5;241m*\u001b[39m\u001b[38;5;241m*\u001b[39mkwargs)\n",
      "\u001b[1;31mFileNotFoundError\u001b[0m: [Errno 2] No such file or directory: 'your_file_path.txt'"
     ]
    }
   ],
   "source": [
    "import re\n",
    "\n",
    "def extract_date_from_text(file_path):\n",
    "    with open(file_path, 'r') as file:\n",
    "        text = file.read()\n",
    "\n",
    "    pattern = re.compile(r'\\b(?:January|February|March|April|May|June|July|August|September|October|November|December)\\s+\\d{1,2}(?:st|nd|rd|th)?\\s+\\d{4}\\b')\n",
    "    match = re.search(pattern, text)\n",
    "\n",
    "    if match:\n",
    "        return match.group(0)\n",
    "    else:\n",
    "        return \"Date not found in the text.\"\n",
    "\n",
    "# Provide the path to your text file containing the text\n",
    "file_path = 'your_file_path.txt'  # Replace 'your_file_path.txt' with your file path\n",
    "\n",
    "# Extract date from the text file\n",
    "date_extracted = extract_date_from_text(file_path)\n",
    "print(\"Extracted Date:\", date_extracted)\n"
   ]
  },
  {
   "cell_type": "code",
   "execution_count": 13,
   "id": "27cd025f",
   "metadata": {},
   "outputs": [
    {
     "name": "stdout",
     "output_type": "stream",
     "text": [
      "Words found: ['fox', 'dog']\n"
     ]
    }
   ],
   "source": [
    "def search_words(text, words):\n",
    "    found_words = [word for word in words if word in text]\n",
    "    return found_words\n",
    "\n",
    "sample_text = 'The quick brown fox jumps over the lazy dog.'\n",
    "searched_words = ['fox', 'dog', 'horse']\n",
    "\n",
    "found_words = search_words(sample_text, searched_words)\n",
    "print(\"Words found:\", found_words)\n"
   ]
  },
  {
   "cell_type": "code",
   "execution_count": 15,
   "id": "db341cf9",
   "metadata": {},
   "outputs": [
    {
     "name": "stdout",
     "output_type": "stream",
     "text": [
      "The word 'fox' starts at index: 16\n"
     ]
    }
   ],
   "source": [
    "import re\n",
    "\n",
    "def search_word_location_regex(text, word):\n",
    "    pattern = re.compile(re.escape(word))\n",
    "    match = pattern.search(text)\n",
    "    return match.start() if match else -1\n",
    "\n",
    "sample_text = 'The quick brown fox jumps over the lazy dog.'\n",
    "searched_word = 'fox'\n",
    "\n",
    "word_location = search_word_location_regex(sample_text, searched_word)\n",
    "\n",
    "if word_location != -1:\n",
    "    print(f\"The word '{searched_word}' starts at index: {word_location}\")\n",
    "else:\n",
    "    print(f\"The word '{searched_word}' is not found in the text.\")\n"
   ]
  },
  {
   "cell_type": "code",
   "execution_count": 16,
   "id": "78542816",
   "metadata": {},
   "outputs": [
    {
     "name": "stdout",
     "output_type": "stream",
     "text": [
      "Substrings 'exercises' found: ['exercises', 'exercises', 'exercises']\n"
     ]
    }
   ],
   "source": [
    "import re\n",
    "\n",
    "def find_substrings(text, pattern):\n",
    "    substrings = re.findall(pattern, text)\n",
    "    return substrings\n",
    "\n",
    "sample_text = 'Python exercises, PHP exercises, C# exercises'\n",
    "search_pattern = 'exercises'\n",
    "\n",
    "found_substrings = find_substrings(sample_text, search_pattern)\n",
    "\n",
    "if found_substrings:\n",
    "    print(f\"Substrings '{search_pattern}' found: {found_substrings}\")\n",
    "else:\n",
    "    print(f\"No substrings '{search_pattern}' found in the text.\")\n"
   ]
  },
  {
   "cell_type": "code",
   "execution_count": 17,
   "id": "aec7eec2",
   "metadata": {},
   "outputs": [
    {
     "name": "stdout",
     "output_type": "stream",
     "text": [
      "Occurrences of 'exercises' found at positions: [7, 22, 36]\n"
     ]
    }
   ],
   "source": [
    "def find_occurrences_positions(text, substring):\n",
    "    occurrences = []\n",
    "    position = text.find(substring)\n",
    "    while position != -1:\n",
    "        occurrences.append(position)\n",
    "        position = text.find(substring, position + 1)\n",
    "    return occurrences\n",
    "\n",
    "sample_text = 'Python exercises, PHP exercises, C# exercises'\n",
    "searched_substring = 'exercises'\n",
    "\n",
    "found_positions = find_occurrences_positions(sample_text, searched_substring)\n",
    "\n",
    "if found_positions:\n",
    "    print(f\"Occurrences of '{searched_substring}' found at positions: {found_positions}\")\n",
    "else:\n",
    "    print(f\"No occurrences of '{searched_substring}' found in the text.\")\n"
   ]
  },
  {
   "cell_type": "code",
   "execution_count": 18,
   "id": "f88312d7",
   "metadata": {},
   "outputs": [
    {
     "name": "stdout",
     "output_type": "stream",
     "text": [
      "Original date (yyyy-mm-dd): 2023-12-25\n",
      "Converted date (dd-mm-yyyy): 25-12-2023\n"
     ]
    }
   ],
   "source": [
    "from datetime import datetime\n",
    "\n",
    "def convert_date_format(date_string):\n",
    "    # Parse the date string from yyyy-mm-dd format\n",
    "    date_object = datetime.strptime(date_string, '%Y-%m-%d')\n",
    "    \n",
    "    # Convert the date to dd-mm-yyyy format\n",
    "    formatted_date = date_object.strftime('%d-%m-%Y')\n",
    "    \n",
    "    return formatted_date\n",
    "\n",
    "# Sample date in yyyy-mm-dd format\n",
    "date_in_yyyy_mm_dd = '2023-12-25'\n",
    "\n",
    "# Convert the date format\n",
    "date_in_dd_mm_yyyy = convert_date_format(date_in_yyyy_mm_dd)\n",
    "print(f\"Original date (yyyy-mm-dd): {date_in_yyyy_mm_dd}\")\n",
    "print(f\"Converted date (dd-mm-yyyy): {date_in_dd_mm_yyyy}\")\n"
   ]
  },
  {
   "cell_type": "code",
   "execution_count": 19,
   "id": "f920d29f",
   "metadata": {},
   "outputs": [
    {
     "name": "stdout",
     "output_type": "stream",
     "text": [
      "Decimal numbers with precision of 1 or 2 found: ['01.12', '145.8', '3.01', '27.25', '0.25']\n"
     ]
    }
   ],
   "source": [
    "import re\n",
    "\n",
    "def find_decimal_numbers(text):\n",
    "    pattern = re.compile(r'\\b\\d+\\.\\d{1,2}\\b')\n",
    "    decimal_numbers = pattern.findall(text)\n",
    "    return decimal_numbers\n",
    "\n",
    "sample_text = \"01.12 0132.123 2.31875 145.8 3.01 27.25 0.25\"\n",
    "\n",
    "output = find_decimal_numbers(sample_text)\n",
    "print(\"Decimal numbers with precision of 1 or 2 found:\", output)\n"
   ]
  },
  {
   "cell_type": "code",
   "execution_count": 20,
   "id": "42d1d272",
   "metadata": {},
   "outputs": [
    {
     "name": "stdout",
     "output_type": "stream",
     "text": [
      "Numbers found: ['1', '2', '3', '4', '5', '6', '7', '8', '9']\n",
      "Positions of numbers: [3, 4, 5, 9, 10, 11, 15, 16, 17]\n"
     ]
    }
   ],
   "source": [
    "def separate_numbers_and_positions(text):\n",
    "    numbers = []\n",
    "    positions = []\n",
    "\n",
    "    for index, char in enumerate(text):\n",
    "        if char.isdigit():\n",
    "            numbers.append(char)\n",
    "            positions.append(index)\n",
    "\n",
    "    return numbers, positions\n",
    "\n",
    "sample_text = \"abc123def456ghi789\"\n",
    "numbers_found, positions_found = separate_numbers_and_positions(sample_text)\n",
    "\n",
    "print(\"Numbers found:\", numbers_found)\n",
    "print(\"Positions of numbers:\", positions_found)\n"
   ]
  },
  {
   "cell_type": "code",
   "execution_count": 21,
   "id": "5fae541f",
   "metadata": {},
   "outputs": [
    {
     "name": "stdout",
     "output_type": "stream",
     "text": [
      "Maximum numeric value: 950\n"
     ]
    }
   ],
   "source": [
    "import re\n",
    "\n",
    "def extract_max_numeric_value(text):\n",
    "    numeric_values = re.findall(r'\\d+', text)\n",
    "    max_value = max(map(int, numeric_values))\n",
    "    return max_value\n",
    "\n",
    "sample_text = 'My marks in each semester are: 947, 896, 926, 524, 734, 950, 642'\n",
    "\n",
    "max_numeric_value = extract_max_numeric_value(sample_text)\n",
    "print(\"Maximum numeric value:\", max_numeric_value)\n"
   ]
  },
  {
   "cell_type": "code",
   "execution_count": 22,
   "id": "d31ea5f1",
   "metadata": {},
   "outputs": [
    {
     "name": "stdout",
     "output_type": "stream",
     "text": [
      "Regular Expression Is An Important Topic In Python\n"
     ]
    }
   ],
   "source": [
    "import re\n",
    "\n",
    "def insert_spaces(text):\n",
    "    modified_text = re.sub(r'(?<!^)(?=[A-Z])', ' ', text)\n",
    "    return modified_text\n",
    "\n",
    "sample_text = \"RegularExpressionIsAnImportantTopicInPython\"\n",
    "\n",
    "output = insert_spaces(sample_text)\n",
    "print(output)\n"
   ]
  },
  {
   "cell_type": "code",
   "execution_count": 23,
   "id": "33a7141f",
   "metadata": {},
   "outputs": [
    {
     "name": "stdout",
     "output_type": "stream",
     "text": [
      "Sequences of one uppercase letter followed by lowercase letters: ['This', 'Is', 'Sample', 'Text', 'With', 'Sequences', 'Like', 'This', 'One', 'Here', 'Another', 'One', 'There']\n"
     ]
    }
   ],
   "source": [
    "import re\n",
    "\n",
    "def find_uppercase_lowercase_sequences(text):\n",
    "    pattern = re.compile(r'[A-Z][a-z]+')\n",
    "    sequences = pattern.findall(text)\n",
    "    return sequences\n",
    "\n",
    "sample_text = \"This Is a Sample Text With Sequences Like This One Here and Another One There\"\n",
    "\n",
    "result = find_uppercase_lowercase_sequences(sample_text)\n",
    "print(\"Sequences of one uppercase letter followed by lowercase letters:\", result)\n"
   ]
  },
  {
   "cell_type": "code",
   "execution_count": 24,
   "id": "9bfc063a",
   "metadata": {},
   "outputs": [
    {
     "name": "stdout",
     "output_type": "stream",
     "text": [
      "Hello world\n"
     ]
    }
   ],
   "source": [
    "import re\n",
    "\n",
    "def remove_continuous_duplicates(sentence):\n",
    "    pattern = re.compile(r'\\b(\\w+)( \\1\\b)+', re.IGNORECASE)\n",
    "    cleaned_sentence = pattern.sub(r'\\1', sentence)\n",
    "    return cleaned_sentence\n",
    "\n",
    "sample_text = \"Hello hello world world\"\n",
    "\n",
    "output = remove_continuous_duplicates(sample_text)\n",
    "print(output)\n"
   ]
  },
  {
   "cell_type": "code",
   "execution_count": 25,
   "id": "c766370a",
   "metadata": {},
   "outputs": [
    {
     "name": "stdout",
     "output_type": "stream",
     "text": [
      "The text 'This is a sample text ending with an alphanumeric character 5' ends with an alphanumeric character.\n"
     ]
    }
   ],
   "source": [
    "import re\n",
    "\n",
    "def ends_with_alphanumeric(text):\n",
    "    pattern = re.compile(r'.*[a-zA-Z0-9]$')\n",
    "    match = pattern.match(text)\n",
    "\n",
    "    if match:\n",
    "        return True\n",
    "    else:\n",
    "        return False\n",
    "\n",
    "sample_text = \"This is a sample text ending with an alphanumeric character 5\"\n",
    "\n",
    "if ends_with_alphanumeric(sample_text):\n",
    "    print(f\"The text '{sample_text}' ends with an alphanumeric character.\")\n",
    "else:\n",
    "    print(f\"The text '{sample_text}' does not end with an alphanumeric character.\")\n"
   ]
  },
  {
   "cell_type": "code",
   "execution_count": 26,
   "id": "60570f24",
   "metadata": {},
   "outputs": [
    {
     "name": "stdout",
     "output_type": "stream",
     "text": [
      "Extracted Hashtags: ['#Doltiwal', '#xyzabc', '#Demonetization']\n"
     ]
    }
   ],
   "source": [
    "import re\n",
    "\n",
    "def extract_hashtags(text):\n",
    "    hashtags = re.findall(r'#\\w+', text)\n",
    "    return hashtags\n",
    "\n",
    "sample_text = \"\"\"RT @kapil_kausik: #Doltiwal I mean #xyzabc is \"hurt\" by #Demonetization as the same has rendered USELESS <ed><U+00A0><U+00BD><ed><U+00B1><U+0089> \"acquired funds\" No wo\"\"\"\n",
    "\n",
    "extracted_hashtags = extract_hashtags(sample_text)\n",
    "print(\"Extracted Hashtags:\", extracted_hashtags)\n"
   ]
  },
  {
   "cell_type": "code",
   "execution_count": 27,
   "id": "9f1722f5",
   "metadata": {},
   "outputs": [
    {
     "name": "stdout",
     "output_type": "stream",
     "text": [
      "Cleaned Text: @Jags123456 Bharat band on 28??<ed><ed>Those who  are protesting #demonetization  are all different party leaders\n"
     ]
    }
   ],
   "source": [
    "import re\n",
    "\n",
    "def remove_U_plus_symbols(text):\n",
    "    pattern = re.compile(r'<U\\+[0-9A-Fa-f]+>')\n",
    "    cleaned_text = pattern.sub('', text)\n",
    "    return cleaned_text\n",
    "\n",
    "sample_text = \"@Jags123456 Bharat band on 28??<ed><U+00A0><U+00BD><ed><U+00B8><U+0082>Those who  are protesting #demonetization  are all different party leaders\"\n",
    "\n",
    "cleaned_text = remove_U_plus_symbols(sample_text)\n",
    "print(\"Cleaned Text:\", cleaned_text)\n"
   ]
  },
  {
   "cell_type": "code",
   "execution_count": 31,
   "id": "4d683ff4",
   "metadata": {},
   "outputs": [
    {
     "name": "stdout",
     "output_type": "stream",
     "text": [
      " following example creates  ArrayList  a capacity   elements. 4 elements   added   ArrayList   ArrayList  trimmed accordingly.\n"
     ]
    }
   ],
   "source": [
    "import re\n",
    "\n",
    "def remove_words_length_2_to_4(text):\n",
    "    pattern = re.compile(r'\\b\\w{2,4}\\b')\n",
    "    cleaned_text = pattern.sub('', text)\n",
    "    return cleaned_text\n",
    "\n",
    "sample_text = \"The following example creates an ArrayList with a capacity of 50 elements. 4 elements are then added to the ArrayList and the ArrayList is trimmed accordingly.\"\n",
    "\n",
    "output = remove_words_length_2_to_4(sample_text)\n",
    "print(output)\n"
   ]
  },
  {
   "cell_type": "code",
   "execution_count": 32,
   "id": "467df4db",
   "metadata": {},
   "outputs": [
    {
     "name": "stdout",
     "output_type": "stream",
     "text": [
      "Words at least 4 characters long: ['This', 'sample', 'text', 'with', 'words', 'various', 'lengths', 'like', 'hello', 'world', 'python', 'amazing']\n"
     ]
    }
   ],
   "source": [
    "import re\n",
    "\n",
    "def find_words_at_least_4_characters(text):\n",
    "    pattern = re.compile(r'\\b\\w{4,}\\b')\n",
    "    found_words = pattern.findall(text)\n",
    "    return found_words\n",
    "\n",
    "sample_text = \"This is a sample text with words of various lengths like hello, world, python, amazing.\"\n",
    "\n",
    "result = find_words_at_least_4_characters(sample_text)\n",
    "print(\"Words at least 4 characters long:\", result)\n"
   ]
  },
  {
   "cell_type": "code",
   "execution_count": 33,
   "id": "7be90902",
   "metadata": {},
   "outputs": [
    {
     "name": "stdout",
     "output_type": "stream",
     "text": [
      "Three, four, and five character words: ['This', 'text', 'with', 'words', 'like', 'hello', 'world']\n"
     ]
    }
   ],
   "source": [
    "import re\n",
    "\n",
    "def find_specific_length_words(text):\n",
    "    pattern = re.compile(r'\\b\\w{3,5}\\b')\n",
    "    found_words = pattern.findall(text)\n",
    "    return found_words\n",
    "\n",
    "sample_text = \"This is a sample text with words of various lengths like hello, world, python, amazing.\"\n",
    "\n",
    "result = find_specific_length_words(sample_text)\n",
    "print(\"Three, four, and five character words:\", result)\n"
   ]
  },
  {
   "cell_type": "code",
   "execution_count": null,
   "id": "d0f3d217",
   "metadata": {},
   "outputs": [],
   "source": []
  }
 ],
 "metadata": {
  "kernelspec": {
   "display_name": "Python 3 (ipykernel)",
   "language": "python",
   "name": "python3"
  },
  "language_info": {
   "codemirror_mode": {
    "name": "ipython",
    "version": 3
   },
   "file_extension": ".py",
   "mimetype": "text/x-python",
   "name": "python",
   "nbconvert_exporter": "python",
   "pygments_lexer": "ipython3",
   "version": "3.10.9"
  }
 },
 "nbformat": 4,
 "nbformat_minor": 5
}
